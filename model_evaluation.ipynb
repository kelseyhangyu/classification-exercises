{
 "cells": [
  {
   "cell_type": "code",
   "execution_count": 91,
   "id": "78cc7b56",
   "metadata": {},
   "outputs": [
    {
     "name": "stdout",
     "output_type": "stream",
     "text": [
      "0.575\n",
      "0.8\n"
     ]
    }
   ],
   "source": [
    "#2\n",
    "p = 'dog'\n",
    "n = 'cat'\n",
    "\n",
    "tp = 46\n",
    "tn = 34\n",
    "fp = 13 #pred dog, actual cat\n",
    "fn = 7 #pred cat, actual dog\n",
    "\n",
    "baseline_accuracy = 46 / (46+34)\n",
    "print(baseline_accuracy)\n",
    "accuracy = (tp + tn)/(tp+tn+fp+fn)\n",
    "print(accuracy)"
   ]
  },
  {
   "cell_type": "code",
   "execution_count": 92,
   "id": "597f67eb",
   "metadata": {},
   "outputs": [],
   "source": [
    "#3\n",
    "import pandas as pd\n",
    "duck = pd.read_csv('c3.csv')"
   ]
  },
  {
   "cell_type": "code",
   "execution_count": 93,
   "id": "8d04157a",
   "metadata": {},
   "outputs": [
    {
     "name": "stdout",
     "output_type": "stream",
     "text": [
      "<class 'pandas.core.frame.DataFrame'>\n",
      "RangeIndex: 200 entries, 0 to 199\n",
      "Data columns (total 4 columns):\n",
      " #   Column  Non-Null Count  Dtype \n",
      "---  ------  --------------  ----- \n",
      " 0   actual  200 non-null    object\n",
      " 1   model1  200 non-null    object\n",
      " 2   model2  200 non-null    object\n",
      " 3   model3  200 non-null    object\n",
      "dtypes: object(4)\n",
      "memory usage: 6.4+ KB\n",
      "actual\n",
      "No Defect    184\n",
      "Defect        16\n",
      "Name: count, dtype: int64\n",
      "model1\n",
      "No Defect    190\n",
      "Defect        10\n",
      "Name: count, dtype: int64\n",
      "model2\n",
      "No Defect    110\n",
      "Defect        90\n",
      "Name: count, dtype: int64\n",
      "model3\n",
      "No Defect    101\n",
      "Defect        99\n",
      "Name: count, dtype: int64\n"
     ]
    },
    {
     "data": {
      "text/html": [
       "<div>\n",
       "<style scoped>\n",
       "    .dataframe tbody tr th:only-of-type {\n",
       "        vertical-align: middle;\n",
       "    }\n",
       "\n",
       "    .dataframe tbody tr th {\n",
       "        vertical-align: top;\n",
       "    }\n",
       "\n",
       "    .dataframe thead th {\n",
       "        text-align: right;\n",
       "    }\n",
       "</style>\n",
       "<table border=\"1\" class=\"dataframe\">\n",
       "  <thead>\n",
       "    <tr style=\"text-align: right;\">\n",
       "      <th></th>\n",
       "      <th>actual</th>\n",
       "      <th>model1</th>\n",
       "      <th>model2</th>\n",
       "      <th>model3</th>\n",
       "    </tr>\n",
       "  </thead>\n",
       "  <tbody>\n",
       "    <tr>\n",
       "      <th>0</th>\n",
       "      <td>No Defect</td>\n",
       "      <td>No Defect</td>\n",
       "      <td>Defect</td>\n",
       "      <td>No Defect</td>\n",
       "    </tr>\n",
       "    <tr>\n",
       "      <th>1</th>\n",
       "      <td>No Defect</td>\n",
       "      <td>No Defect</td>\n",
       "      <td>Defect</td>\n",
       "      <td>Defect</td>\n",
       "    </tr>\n",
       "    <tr>\n",
       "      <th>2</th>\n",
       "      <td>No Defect</td>\n",
       "      <td>No Defect</td>\n",
       "      <td>Defect</td>\n",
       "      <td>No Defect</td>\n",
       "    </tr>\n",
       "    <tr>\n",
       "      <th>3</th>\n",
       "      <td>No Defect</td>\n",
       "      <td>Defect</td>\n",
       "      <td>Defect</td>\n",
       "      <td>Defect</td>\n",
       "    </tr>\n",
       "    <tr>\n",
       "      <th>4</th>\n",
       "      <td>No Defect</td>\n",
       "      <td>No Defect</td>\n",
       "      <td>Defect</td>\n",
       "      <td>No Defect</td>\n",
       "    </tr>\n",
       "  </tbody>\n",
       "</table>\n",
       "</div>"
      ],
      "text/plain": [
       "      actual     model1  model2     model3\n",
       "0  No Defect  No Defect  Defect  No Defect\n",
       "1  No Defect  No Defect  Defect     Defect\n",
       "2  No Defect  No Defect  Defect  No Defect\n",
       "3  No Defect     Defect  Defect     Defect\n",
       "4  No Defect  No Defect  Defect  No Defect"
      ]
     },
     "execution_count": 93,
     "metadata": {},
     "output_type": "execute_result"
    }
   ],
   "source": [
    "duck.info()\n",
    "print(duck.actual.value_counts(dropna=False))\n",
    "print(duck.model1.value_counts(dropna=False))\n",
    "print(duck.model2.value_counts(dropna=False))\n",
    "print(duck.model3.value_counts(dropna=False))\n",
    "duck.head()"
   ]
  },
  {
   "cell_type": "code",
   "execution_count": 94,
   "id": "86b9b1c2",
   "metadata": {},
   "outputs": [
    {
     "name": "stdout",
     "output_type": "stream",
     "text": [
      "actual\n",
      "No Defect    184\n",
      "Defect        16\n",
      "Name: count, dtype: int64\n"
     ]
    },
    {
     "data": {
      "text/plain": [
       "0.92"
      ]
     },
     "execution_count": 94,
     "metadata": {},
     "output_type": "execute_result"
    }
   ],
   "source": [
    "# identify as many of the ducks that have a defect as possible\n",
    "print(duck.actual.value_counts())\n",
    "# baseline accuracy\n",
    "(duck.actual == 'No Defect').mean()"
   ]
  },
  {
   "cell_type": "code",
   "execution_count": 95,
   "id": "35df9aeb",
   "metadata": {},
   "outputs": [
    {
     "name": "stdout",
     "output_type": "stream",
     "text": [
      "model1     Defect  No Defect\n",
      "actual                      \n",
      "Defect          8          8\n",
      "No Defect       2        182\n",
      "model2     Defect  No Defect\n",
      "actual                      \n",
      "Defect          9          7\n",
      "No Defect      81        103\n",
      "model3     Defect  No Defect\n",
      "actual                      \n",
      "Defect         13          3\n",
      "No Defect      86         98\n"
     ]
    }
   ],
   "source": [
    "# use recall metric tp minimize false negative prediction\n",
    "\n",
    "p = 'Defect'\n",
    "n = 'No Defect'\n",
    "model1=pd.crosstab(duck.actual,duck.model1)\n",
    "print(model1)\n",
    "model2=pd.crosstab(duck.actual,duck.model2)\n",
    "print(model2)\n",
    "model3=pd.crosstab(duck.actual,duck.model3)\n",
    "print(model3)"
   ]
  },
  {
   "cell_type": "code",
   "execution_count": 96,
   "id": "ca535040",
   "metadata": {},
   "outputs": [
    {
     "name": "stdout",
     "output_type": "stream",
     "text": [
      "0.5,0.5625,0.8125\n",
      "model3 has higher recall rate, thus has higher chance to predict a defect and perform the best amongst the 3 models\n"
     ]
    }
   ],
   "source": [
    "import numpy as np\n",
    "tp1=model1.iloc[0,0]\n",
    "fn1=model1.iloc[0,1]\n",
    "\n",
    "tp2=model2.iloc[0,0]\n",
    "fn2=model2.iloc[0,1]\n",
    "\n",
    "tp3=model3.iloc[0,0]\n",
    "fn3=model3.iloc[0,1]\n",
    "\n",
    "recall1=tp1/(tp1+fn1)\n",
    "recall2=tp2/(tp2+fn2)\n",
    "recall3=tp3/(tp3+fn3)\n",
    "\n",
    "print(f'{recall1},{recall2},{recall3}')\n",
    "print('model3 has higher recall rate, thus has higher chance to predict a defect and perform the best amongst the 3 models')"
   ]
  },
  {
   "cell_type": "code",
   "execution_count": 97,
   "id": "4bc14489",
   "metadata": {},
   "outputs": [
    {
     "data": {
      "text/plain": [
       "array([0.5       , 0.98913043])"
      ]
     },
     "execution_count": 97,
     "metadata": {},
     "output_type": "execute_result"
    }
   ],
   "source": [
    "# use sklearn.metrics.recall_score\n",
    "from sklearn.metrics import recall_score\n",
    "y_true = duck.actual\n",
    "y_pred = duck.model1\n",
    "recall_score(y_true, y_pred, average=None)\n"
   ]
  },
  {
   "cell_type": "code",
   "execution_count": 98,
   "id": "00423e46",
   "metadata": {},
   "outputs": [
    {
     "name": "stdout",
     "output_type": "stream",
     "text": [
      "0.8,0.1,0.13131313131313133\n",
      "model 1 has the higher precision rate among all 3 models\n"
     ]
    }
   ],
   "source": [
    "# use precision metric to avoid the cost for false positive prediction\n",
    "tp1=model1.iloc[0,0]\n",
    "fp1=model1.iloc[1,0]\n",
    "\n",
    "tp2=model2.iloc[0,0]\n",
    "fp2=model2.iloc[1,0]\n",
    "\n",
    "tp3=model3.iloc[0,0]\n",
    "fp3=model3.iloc[1,0]\n",
    "\n",
    "precision1 = tp1/(tp1+fp1)\n",
    "precision2 = tp2/(tp2+fp2)\n",
    "precision3 = tp3/(tp3+fp3)\n",
    "\n",
    "print(f'{precision1},{precision2},{precision3}')\n",
    "print('model 1 has the higher precision rate among all 3 models')"
   ]
  },
  {
   "cell_type": "code",
   "execution_count": 99,
   "id": "84d71b83",
   "metadata": {},
   "outputs": [
    {
     "data": {
      "text/plain": [
       "array([0.8       , 0.95789474])"
      ]
     },
     "execution_count": 99,
     "metadata": {},
     "output_type": "execute_result"
    }
   ],
   "source": [
    "# use sklearn.metrics.precision_score\n",
    "from sklearn.metrics import precision_score\n",
    "y_true = duck.actual\n",
    "y_pred = duck.model1\n",
    "precision_score(y_true, y_pred, average=None)"
   ]
  },
  {
   "cell_type": "code",
   "execution_count": 100,
   "id": "001dd42e",
   "metadata": {},
   "outputs": [
    {
     "data": {
      "text/html": [
       "<div>\n",
       "<style scoped>\n",
       "    .dataframe tbody tr th:only-of-type {\n",
       "        vertical-align: middle;\n",
       "    }\n",
       "\n",
       "    .dataframe tbody tr th {\n",
       "        vertical-align: top;\n",
       "    }\n",
       "\n",
       "    .dataframe thead th {\n",
       "        text-align: right;\n",
       "    }\n",
       "</style>\n",
       "<table border=\"1\" class=\"dataframe\">\n",
       "  <thead>\n",
       "    <tr style=\"text-align: right;\">\n",
       "      <th></th>\n",
       "      <th>actual</th>\n",
       "      <th>model1</th>\n",
       "      <th>model2</th>\n",
       "      <th>model3</th>\n",
       "      <th>model4</th>\n",
       "    </tr>\n",
       "  </thead>\n",
       "  <tbody>\n",
       "    <tr>\n",
       "      <th>0</th>\n",
       "      <td>cat</td>\n",
       "      <td>cat</td>\n",
       "      <td>dog</td>\n",
       "      <td>cat</td>\n",
       "      <td>dog</td>\n",
       "    </tr>\n",
       "    <tr>\n",
       "      <th>1</th>\n",
       "      <td>dog</td>\n",
       "      <td>dog</td>\n",
       "      <td>cat</td>\n",
       "      <td>cat</td>\n",
       "      <td>dog</td>\n",
       "    </tr>\n",
       "    <tr>\n",
       "      <th>2</th>\n",
       "      <td>dog</td>\n",
       "      <td>cat</td>\n",
       "      <td>cat</td>\n",
       "      <td>cat</td>\n",
       "      <td>dog</td>\n",
       "    </tr>\n",
       "    <tr>\n",
       "      <th>3</th>\n",
       "      <td>dog</td>\n",
       "      <td>dog</td>\n",
       "      <td>dog</td>\n",
       "      <td>cat</td>\n",
       "      <td>dog</td>\n",
       "    </tr>\n",
       "    <tr>\n",
       "      <th>4</th>\n",
       "      <td>cat</td>\n",
       "      <td>cat</td>\n",
       "      <td>cat</td>\n",
       "      <td>dog</td>\n",
       "      <td>dog</td>\n",
       "    </tr>\n",
       "  </tbody>\n",
       "</table>\n",
       "</div>"
      ],
      "text/plain": [
       "  actual model1 model2 model3 model4\n",
       "0    cat    cat    dog    cat    dog\n",
       "1    dog    dog    cat    cat    dog\n",
       "2    dog    cat    cat    cat    dog\n",
       "3    dog    dog    dog    cat    dog\n",
       "4    cat    cat    cat    dog    dog"
      ]
     },
     "execution_count": 100,
     "metadata": {},
     "output_type": "execute_result"
    }
   ],
   "source": [
    "# 4 \n",
    "paw = pd.read_csv('gives_you_paws.csv')\n",
    "paw.head()\n"
   ]
  },
  {
   "cell_type": "code",
   "execution_count": 101,
   "id": "9fb42f0c",
   "metadata": {},
   "outputs": [
    {
     "data": {
      "text/plain": [
       "actual\n",
       "dog    3254\n",
       "cat    1746\n",
       "Name: count, dtype: int64"
      ]
     },
     "execution_count": 101,
     "metadata": {},
     "output_type": "execute_result"
    }
   ],
   "source": [
    "paw.actual.value_counts(dropna=False)"
   ]
  },
  {
   "cell_type": "code",
   "execution_count": 102,
   "id": "d11d5bcf",
   "metadata": {},
   "outputs": [],
   "source": [
    "paw['baseline']= 'dog'"
   ]
  },
  {
   "cell_type": "code",
   "execution_count": 103,
   "id": "b37e4238",
   "metadata": {},
   "outputs": [],
   "source": [
    "baseline_accuracy = (paw.actual=='dog').mean()"
   ]
  },
  {
   "cell_type": "code",
   "execution_count": 104,
   "id": "92bd042d",
   "metadata": {},
   "outputs": [
    {
     "name": "stdout",
     "output_type": "stream",
     "text": [
      "0.8074 0.6304 0.5096 0.7426\n",
      "model1 has the highest accuracy rate\n"
     ]
    }
   ],
   "source": [
    "# In terms of accuracy, how do the various models compare to the baseline model? \n",
    "# Are any of the models better than the baseline?\n",
    "p = 'dog'\n",
    "n = 'cat'\n",
    "\n",
    "model1=pd.crosstab(paw.actual,paw.model1)\n",
    "model2=pd.crosstab(paw.actual,paw.model2)\n",
    "model3=pd.crosstab(paw.actual,paw.model3)\n",
    "model4=pd.crosstab(paw.actual,paw.model4)\n",
    "\n",
    "tp1=model1.iloc[0,0]\n",
    "tn1=model1.iloc[1,1]\n",
    "fn1=model1.iloc[1,0]\n",
    "fp1=model1.iloc[0,1]\n",
    "\n",
    "accuracy1=(tp1+tn1)/(tp1+tn1+fn1+fp1)\n",
    "\n",
    "tp2=model2.iloc[0,0]\n",
    "tn2=model2.iloc[1,1]\n",
    "fn2=model2.iloc[1,0]\n",
    "fp2=model2.iloc[0,1]\n",
    "\n",
    "accuracy2=(tp2+tn2)/(tp2+tn2+fn2+fp2)\n",
    "\n",
    "tp3=model3.iloc[0,0]\n",
    "tn3=model3.iloc[1,1]\n",
    "fn3=model3.iloc[1,0]\n",
    "fp3=model3.iloc[0,1]\n",
    "\n",
    "accuracy3=(tp3+tn3)/(tp3+tn3+fn3+fp3)\n",
    "\n",
    "tp4=model4.iloc[0,0]\n",
    "tn4=model4.iloc[1,1]\n",
    "fn4=model4.iloc[1,0]\n",
    "fp4=model4.iloc[0,1]\n",
    "\n",
    "accuracy4=(tp4+tn4)/(tp4+tn4+fn4+fp4)\n",
    "print(accuracy1,accuracy2,accuracy3,accuracy4)\n",
    "print('model1 has the highest accuracy rate' )"
   ]
  },
  {
   "cell_type": "code",
   "execution_count": 105,
   "id": "8ab701b9",
   "metadata": {},
   "outputs": [
    {
     "name": "stdout",
     "output_type": "stream",
     "text": [
      "0.8074\n",
      "4037\n"
     ]
    }
   ],
   "source": [
    "# using sklearn function\n",
    "from sklearn.metrics import accuracy_score\n",
    "y_pred = paw.model1\n",
    "y_true = paw.actual\n",
    "print(accuracy_score(y_true, y_pred))\n",
    "print(accuracy_score(y_true, y_pred, normalize=False))#normalize=False means return number of correctly classified samples"
   ]
  },
  {
   "cell_type": "code",
   "execution_count": 106,
   "id": "f1bb6c96",
   "metadata": {},
   "outputs": [
    {
     "name": "stdout",
     "output_type": "stream",
     "text": [
      "0.8150057273768614 0.8906071019473081 0.5114547537227949 0.34536082474226804\n",
      "model 2 has the highest recall rate, therefore is the best model\n"
     ]
    }
   ],
   "source": [
    "# b.Suppose you are working on a team that solely deals with dog pictures. \n",
    "# Which of these models would you recommend?\n",
    "\n",
    "# postive cases - recall matrix\n",
    "recall1 = tp1/(tp1+fp1)\n",
    "recall2 = tp2/(tp2+fp2)\n",
    "recall3 = tp3/(tp3+fp3)\n",
    "recall4 = tp4/(tp4+fp4)\n",
    "\n",
    "print(recall1,recall2,recall3,recall4)\n",
    "print('model 2 has the highest recall rate, therefore is the best model')"
   ]
  },
  {
   "cell_type": "code",
   "execution_count": 107,
   "id": "821294fd",
   "metadata": {},
   "outputs": [
    {
     "name": "stdout",
     "output_type": "stream",
     "text": [
      "0.8900238338440586 0.8931767337807607 0.6598883572567783 0.7312485304490948\n",
      "model 2 has the highest recall rate for negative cases, therefore is the best model\n"
     ]
    }
   ],
   "source": [
    "# c.Suppose you are working on a team that solely deals with cat pictures. \n",
    "# Which of these models would you recommend?\n",
    "\n",
    "# negative cases - tn/(tn+fp)\n",
    "# Note that in binary classification, recall of the positive class is also known as “sensitivity”;\n",
    "# recall of the negative class is “specificity”.\n",
    "neg1 = tn1 / (tn1+fp1)\n",
    "neg2 = tn2 / (tn2+fp2)\n",
    "neg3 = tn3 / (tn3+fp3)\n",
    "neg4 = tn4 / (tn4+fp4)\n",
    "\n",
    "print(neg1,neg2,neg3,neg4)\n",
    "print('model 2 has the highest recall rate for negative cases, therefore is the best model')"
   ]
  },
  {
   "cell_type": "code",
   "execution_count": 110,
   "id": "1b8805da",
   "metadata": {},
   "outputs": [
    {
     "name": "stdout",
     "output_type": "stream",
     "text": [
      "              precision    recall  f1-score   support\n",
      "\n",
      "         cat       0.69      0.82      0.75      1746\n",
      "         dog       0.89      0.80      0.84      3254\n",
      "\n",
      "    accuracy                           0.81      5000\n",
      "   macro avg       0.79      0.81      0.80      5000\n",
      "weighted avg       0.82      0.81      0.81      5000\n",
      "\n"
     ]
    }
   ],
   "source": [
    "# use sklearn.metrics.classification_report\n",
    "from sklearn.metrics import classification_report\n",
    "y_true = paw.actual\n",
    "y_pred = paw.model1\n",
    "target_names = ['cat','dog']\n",
    "print(classification_report(y_true, y_pred,target_names=target_names))\n",
    "        "
   ]
  },
  {
   "cell_type": "code",
   "execution_count": null,
   "id": "d509d2e6",
   "metadata": {},
   "outputs": [],
   "source": []
  },
  {
   "cell_type": "code",
   "execution_count": null,
   "id": "a2b3244e",
   "metadata": {},
   "outputs": [],
   "source": []
  },
  {
   "cell_type": "code",
   "execution_count": null,
   "id": "b0c6ad8d",
   "metadata": {},
   "outputs": [],
   "source": []
  },
  {
   "cell_type": "code",
   "execution_count": null,
   "id": "2c94b931",
   "metadata": {},
   "outputs": [],
   "source": []
  },
  {
   "cell_type": "code",
   "execution_count": null,
   "id": "b40cdd67",
   "metadata": {},
   "outputs": [],
   "source": []
  },
  {
   "cell_type": "code",
   "execution_count": null,
   "id": "97f309bb",
   "metadata": {},
   "outputs": [],
   "source": []
  },
  {
   "cell_type": "code",
   "execution_count": null,
   "id": "a45524d1",
   "metadata": {},
   "outputs": [],
   "source": []
  },
  {
   "cell_type": "code",
   "execution_count": null,
   "id": "063cddea",
   "metadata": {},
   "outputs": [],
   "source": []
  },
  {
   "cell_type": "code",
   "execution_count": null,
   "id": "e803c9c7",
   "metadata": {},
   "outputs": [],
   "source": []
  },
  {
   "cell_type": "code",
   "execution_count": null,
   "id": "231d7175",
   "metadata": {},
   "outputs": [],
   "source": []
  }
 ],
 "metadata": {
  "kernelspec": {
   "display_name": "Python 3 (ipykernel)",
   "language": "python",
   "name": "python3"
  },
  "language_info": {
   "codemirror_mode": {
    "name": "ipython",
    "version": 3
   },
   "file_extension": ".py",
   "mimetype": "text/x-python",
   "name": "python",
   "nbconvert_exporter": "python",
   "pygments_lexer": "ipython3",
   "version": "3.11.5"
  }
 },
 "nbformat": 4,
 "nbformat_minor": 5
}
