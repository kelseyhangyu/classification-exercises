{
 "cells": [
  {
   "cell_type": "code",
   "execution_count": 4,
   "id": "3436dba7",
   "metadata": {},
   "outputs": [
    {
     "name": "stdout",
     "output_type": "stream",
     "text": [
      "0.575\n",
      "0.8\n"
     ]
    }
   ],
   "source": [
    "#2\n",
    "p = 'dog'\n",
    "n = 'cat'\n",
    "\n",
    "tp = 46\n",
    "tn = 34\n",
    "fp = 13 #pred dog, actual cat\n",
    "fn = 7 #pred cat, actual dog\n",
    "\n",
    "baseline_accuracy = 46 / (46+34)\n",
    "print(baseline_accuracy)\n",
    "accuracy = (tp + tn)/(tp+tn+fp+fn)\n",
    "print(accuracy)"
   ]
  },
  {
   "cell_type": "code",
   "execution_count": 8,
   "id": "f60d1a59",
   "metadata": {},
   "outputs": [],
   "source": [
    "#3\n",
    "import pandas as pd\n",
    "duck = pd.read_csv('c3.csv')"
   ]
  },
  {
   "cell_type": "code",
   "execution_count": 14,
   "id": "7cc0ded7",
   "metadata": {},
   "outputs": [
    {
     "name": "stdout",
     "output_type": "stream",
     "text": [
      "<class 'pandas.core.frame.DataFrame'>\n",
      "RangeIndex: 200 entries, 0 to 199\n",
      "Data columns (total 4 columns):\n",
      " #   Column  Non-Null Count  Dtype \n",
      "---  ------  --------------  ----- \n",
      " 0   actual  200 non-null    object\n",
      " 1   model1  200 non-null    object\n",
      " 2   model2  200 non-null    object\n",
      " 3   model3  200 non-null    object\n",
      "dtypes: object(4)\n",
      "memory usage: 6.4+ KB\n",
      "actual\n",
      "No Defect    184\n",
      "Defect        16\n",
      "Name: count, dtype: int64\n",
      "model1\n",
      "No Defect    190\n",
      "Defect        10\n",
      "Name: count, dtype: int64\n",
      "model2\n",
      "No Defect    110\n",
      "Defect        90\n",
      "Name: count, dtype: int64\n",
      "model3\n",
      "No Defect    101\n",
      "Defect        99\n",
      "Name: count, dtype: int64\n"
     ]
    },
    {
     "data": {
      "text/html": [
       "<div>\n",
       "<style scoped>\n",
       "    .dataframe tbody tr th:only-of-type {\n",
       "        vertical-align: middle;\n",
       "    }\n",
       "\n",
       "    .dataframe tbody tr th {\n",
       "        vertical-align: top;\n",
       "    }\n",
       "\n",
       "    .dataframe thead th {\n",
       "        text-align: right;\n",
       "    }\n",
       "</style>\n",
       "<table border=\"1\" class=\"dataframe\">\n",
       "  <thead>\n",
       "    <tr style=\"text-align: right;\">\n",
       "      <th></th>\n",
       "      <th>actual</th>\n",
       "      <th>model1</th>\n",
       "      <th>model2</th>\n",
       "      <th>model3</th>\n",
       "    </tr>\n",
       "  </thead>\n",
       "  <tbody>\n",
       "    <tr>\n",
       "      <th>0</th>\n",
       "      <td>No Defect</td>\n",
       "      <td>No Defect</td>\n",
       "      <td>Defect</td>\n",
       "      <td>No Defect</td>\n",
       "    </tr>\n",
       "    <tr>\n",
       "      <th>1</th>\n",
       "      <td>No Defect</td>\n",
       "      <td>No Defect</td>\n",
       "      <td>Defect</td>\n",
       "      <td>Defect</td>\n",
       "    </tr>\n",
       "    <tr>\n",
       "      <th>2</th>\n",
       "      <td>No Defect</td>\n",
       "      <td>No Defect</td>\n",
       "      <td>Defect</td>\n",
       "      <td>No Defect</td>\n",
       "    </tr>\n",
       "    <tr>\n",
       "      <th>3</th>\n",
       "      <td>No Defect</td>\n",
       "      <td>Defect</td>\n",
       "      <td>Defect</td>\n",
       "      <td>Defect</td>\n",
       "    </tr>\n",
       "    <tr>\n",
       "      <th>4</th>\n",
       "      <td>No Defect</td>\n",
       "      <td>No Defect</td>\n",
       "      <td>Defect</td>\n",
       "      <td>No Defect</td>\n",
       "    </tr>\n",
       "  </tbody>\n",
       "</table>\n",
       "</div>"
      ],
      "text/plain": [
       "      actual     model1  model2     model3\n",
       "0  No Defect  No Defect  Defect  No Defect\n",
       "1  No Defect  No Defect  Defect     Defect\n",
       "2  No Defect  No Defect  Defect  No Defect\n",
       "3  No Defect     Defect  Defect     Defect\n",
       "4  No Defect  No Defect  Defect  No Defect"
      ]
     },
     "execution_count": 14,
     "metadata": {},
     "output_type": "execute_result"
    }
   ],
   "source": [
    "duck.info()\n",
    "print(duck.actual.value_counts(dropna=False))\n",
    "print(duck.model1.value_counts(dropna=False))\n",
    "print(duck.model2.value_counts(dropna=False))\n",
    "print(duck.model3.value_counts(dropna=False))\n",
    "duck.head()"
   ]
  },
  {
   "cell_type": "code",
   "execution_count": 21,
   "id": "7a3fcd72",
   "metadata": {},
   "outputs": [
    {
     "name": "stdout",
     "output_type": "stream",
     "text": [
      "actual\n",
      "No Defect    184\n",
      "Defect        16\n",
      "Name: count, dtype: int64\n"
     ]
    },
    {
     "data": {
      "text/plain": [
       "0.92"
      ]
     },
     "execution_count": 21,
     "metadata": {},
     "output_type": "execute_result"
    }
   ],
   "source": [
    "# identify as many of the ducks that have a defect as possible\n",
    "print(duck.actual.value_counts())\n",
    "# baseline accuracy\n",
    "(duck.actual == 'No Defect').mean()"
   ]
  },
  {
   "cell_type": "code",
   "execution_count": 24,
   "id": "2cb213fb",
   "metadata": {},
   "outputs": [
    {
     "name": "stdout",
     "output_type": "stream",
     "text": [
      "model1     Defect  No Defect\n",
      "actual                      \n",
      "Defect          8          8\n",
      "No Defect       2        182\n",
      "model2     Defect  No Defect\n",
      "actual                      \n",
      "Defect          9          7\n",
      "No Defect      81        103\n",
      "model3     Defect  No Defect\n",
      "actual                      \n",
      "Defect         13          3\n",
      "No Defect      86         98\n"
     ]
    }
   ],
   "source": [
    "# use recall metric tp minimize false negative prediction\n",
    "\n",
    "p = 'Defect'\n",
    "n = 'No Defect'\n",
    "model1=pd.crosstab(duck.actual,duck.model1)\n",
    "print(model1)\n",
    "model2=pd.crosstab(duck.actual,duck.model2)\n",
    "print(model2)\n",
    "model3=pd.crosstab(duck.actual,duck.model3)\n",
    "print(model3)"
   ]
  },
  {
   "cell_type": "code",
   "execution_count": 34,
   "id": "8121f248",
   "metadata": {},
   "outputs": [],
   "source": [
    "import numpy as np\n",
    "tp1=model1.iloc[0,0]\n",
    "fn1=model1.iloc[0,1]\n",
    "\n",
    "tp2=model2.iloc[0,0]\n",
    "fn2=model2.iloc[0,1]\n",
    "\n",
    "tp3=model3.iloc[0,0]\n",
    "fn3=model3.iloc[0,1]\n"
   ]
  },
  {
   "cell_type": "code",
   "execution_count": 36,
   "id": "859224e2",
   "metadata": {},
   "outputs": [],
   "source": [
    "recall1=tp1/(tp1+fn1)\n",
    "recall2=tp2/(tp2+fn2)\n",
    "recall3=tp3/(tp3+fn3)"
   ]
  },
  {
   "cell_type": "code",
   "execution_count": 46,
   "id": "77b123a8",
   "metadata": {},
   "outputs": [
    {
     "name": "stdout",
     "output_type": "stream",
     "text": [
      "0.5,0.5625,0.8125\n",
      "model3 has higher recall rate, thus has higher chance to predict a defect and perform the best amongst the 3 modelshowever, none of the recall rates pass the baseline accuracy\n"
     ]
    }
   ],
   "source": [
    "print(f'{recall1},{recall2},{recall3}')\n",
    "print('model3 has higher recall rate, \\\n",
    "thus has higher chance to predict a defect and perform the best amongst the 3 models\\\n",
    "however, none of the recall rates pass the baseline accuracy')"
   ]
  },
  {
   "cell_type": "code",
   "execution_count": 48,
   "id": "d481299d",
   "metadata": {},
   "outputs": [
    {
     "name": "stdout",
     "output_type": "stream",
     "text": [
      "0.8,0.1,0.13131313131313133\n"
     ]
    }
   ],
   "source": [
    "# use precision metric to avoid the cost for false positive prediction\n",
    "tp1=model1.iloc[0,0]\n",
    "fp1=model1.iloc[1,0]\n",
    "\n",
    "tp2=model2.iloc[0,0]\n",
    "fp2=model2.iloc[1,0]\n",
    "\n",
    "tp3=model3.iloc[0,0]\n",
    "fp3=model3.iloc[1,0]\n",
    "\n",
    "precision1 = tp1/(tp1+fp1)\n",
    "precision2 = tp2/(tp2+fp2)\n",
    "precision3 = tp3/(tp3+fp3)\n",
    "\n",
    "print(f'{precision1},{precision2},{precision3}')\n",
    "print('model 1 has the higher precision rate among all 3 models')"
   ]
  },
  {
   "cell_type": "code",
   "execution_count": null,
   "id": "3a068283",
   "metadata": {},
   "outputs": [],
   "source": []
  },
  {
   "cell_type": "code",
   "execution_count": null,
   "id": "1b9b932c",
   "metadata": {},
   "outputs": [],
   "source": []
  },
  {
   "cell_type": "code",
   "execution_count": null,
   "id": "b78212c6",
   "metadata": {},
   "outputs": [],
   "source": []
  }
 ],
 "metadata": {
  "kernelspec": {
   "display_name": "Python 3 (ipykernel)",
   "language": "python",
   "name": "python3"
  },
  "language_info": {
   "codemirror_mode": {
    "name": "ipython",
    "version": 3
   },
   "file_extension": ".py",
   "mimetype": "text/x-python",
   "name": "python",
   "nbconvert_exporter": "python",
   "pygments_lexer": "ipython3",
   "version": "3.11.5"
  }
 },
 "nbformat": 4,
 "nbformat_minor": 5
}
