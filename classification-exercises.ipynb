{
 "cells": [
  {
   "cell_type": "code",
   "execution_count": null,
   "id": "829147e1",
   "metadata": {},
   "outputs": [],
   "source": [
    "import numpy as np\n",
    "import pandas as pd\n",
    "from pydataset import data\n",
    "import os"
   ]
  },
  {
   "cell_type": "code",
   "execution_count": null,
   "id": "e1c923a3",
   "metadata": {},
   "outputs": [],
   "source": [
    "data('iris', show_doc = True)"
   ]
  },
  {
   "cell_type": "code",
   "execution_count": null,
   "id": "ce808e5d",
   "metadata": {},
   "outputs": [],
   "source": [
    "# print the first 3 rows\n",
    "\n",
    "df_iris = data('iris')\n",
    "print(df_iris.head(3))\n",
    "df_iris"
   ]
  },
  {
   "cell_type": "code",
   "execution_count": null,
   "id": "f0a02afd",
   "metadata": {},
   "outputs": [],
   "source": [
    "# print the number of rows and columns (shape)\n",
    "print(df_iris.shape)"
   ]
  },
  {
   "cell_type": "code",
   "execution_count": null,
   "id": "023df209",
   "metadata": {},
   "outputs": [],
   "source": [
    "# print the column names\n",
    "print(df_iris.columns)"
   ]
  },
  {
   "cell_type": "code",
   "execution_count": null,
   "id": "0053e32f",
   "metadata": {},
   "outputs": [],
   "source": [
    "# print the data type of each column\n",
    "print(df_iris.dtypes)"
   ]
  },
  {
   "cell_type": "code",
   "execution_count": null,
   "id": "ccf00126",
   "metadata": {},
   "outputs": [],
   "source": [
    "# print the summary statistics for each of the numeric variables\n",
    "print(df_iris.describe())"
   ]
  },
  {
   "cell_type": "markdown",
   "id": "07597763",
   "metadata": {},
   "source": [
    "# Read the data from this google sheet into a dataframe, df_google."
   ]
  },
  {
   "cell_type": "code",
   "execution_count": null,
   "id": "eb24e96e",
   "metadata": {},
   "outputs": [],
   "source": [
    "df_google = pd.read_csv('train.csv')"
   ]
  },
  {
   "cell_type": "code",
   "execution_count": null,
   "id": "ecdf0a07",
   "metadata": {},
   "outputs": [],
   "source": [
    "# print the first 3 rows\n",
    "\n",
    "print(df_google.head(3))"
   ]
  },
  {
   "cell_type": "code",
   "execution_count": null,
   "id": "369e9178",
   "metadata": {},
   "outputs": [],
   "source": [
    "# print the number of rows and columns\n",
    "\n",
    "print(df_google.shape)"
   ]
  },
  {
   "cell_type": "code",
   "execution_count": null,
   "id": "082fee94",
   "metadata": {},
   "outputs": [],
   "source": [
    "# print the column names\n",
    "print(df_google.columns)"
   ]
  },
  {
   "cell_type": "code",
   "execution_count": null,
   "id": "afb602fa",
   "metadata": {},
   "outputs": [],
   "source": [
    "# print the data type of each column\n",
    "print(df_google.dtypes)"
   ]
  },
  {
   "cell_type": "code",
   "execution_count": null,
   "id": "9677ebf0",
   "metadata": {},
   "outputs": [],
   "source": [
    "# print the summary statistics for each of the numeric variables\n",
    "print(df_google.describe())"
   ]
  },
  {
   "cell_type": "code",
   "execution_count": null,
   "id": "126be3b5",
   "metadata": {},
   "outputs": [],
   "source": [
    "# print the unique values for each of your categorical variables\n",
    "for column in df_google.select_dtypes(include=['object']).columns:\n",
    "    print(f\"Unique values for {column}:\", df_google[column].unique())\n"
   ]
  },
  {
   "cell_type": "code",
   "execution_count": null,
   "id": "49943cf5",
   "metadata": {},
   "outputs": [],
   "source": [
    "df_excel = pd.read_excel('train.xlsx')"
   ]
  },
  {
   "cell_type": "code",
   "execution_count": null,
   "id": "900f9d93",
   "metadata": {},
   "outputs": [],
   "source": [
    "df_excel_sample = df_excel.head(100)"
   ]
  },
  {
   "cell_type": "code",
   "execution_count": null,
   "id": "dc1933e4",
   "metadata": {},
   "outputs": [],
   "source": [
    "print(df_excel.shape)\n"
   ]
  },
  {
   "cell_type": "code",
   "execution_count": null,
   "id": "55a0b2eb",
   "metadata": {},
   "outputs": [],
   "source": [
    "print(df_excel.columns[:5])"
   ]
  },
  {
   "cell_type": "code",
   "execution_count": null,
   "id": "e90b150f",
   "metadata": {},
   "outputs": [],
   "source": [
    "print(df_excel.select_dtypes(include=['object']).columns)"
   ]
  },
  {
   "cell_type": "code",
   "execution_count": null,
   "id": "a57d7b14",
   "metadata": {},
   "outputs": [],
   "source": [
    "num_col = df_excel.select_dtypes(exclude=['object']).columns\n"
   ]
  },
  {
   "cell_type": "code",
   "execution_count": null,
   "id": "329a5e91",
   "metadata": {},
   "outputs": [],
   "source": [
    "for column in num_col:\n",
    "    col_range = df_excel[column].max() - df_excel[column].min()\n",
    "    print(f\"Range for {column}: {col_range}\")\n",
    "    "
   ]
  },
  {
   "cell_type": "code",
   "execution_count": 3,
   "id": "13ed410b",
   "metadata": {},
   "outputs": [],
   "source": [
    "import acquire"
   ]
  },
  {
   "cell_type": "code",
   "execution_count": null,
   "id": "8ecf0647",
   "metadata": {},
   "outputs": [],
   "source": [
    "get_iris_data()"
   ]
  },
  {
   "cell_type": "code",
   "execution_count": null,
   "id": "6fcfb526",
   "metadata": {},
   "outputs": [],
   "source": []
  },
  {
   "cell_type": "code",
   "execution_count": null,
   "id": "d98bcc64",
   "metadata": {},
   "outputs": [],
   "source": []
  },
  {
   "cell_type": "code",
   "execution_count": null,
   "id": "227872fd",
   "metadata": {},
   "outputs": [],
   "source": []
  },
  {
   "cell_type": "code",
   "execution_count": null,
   "id": "9b906bc4",
   "metadata": {},
   "outputs": [],
   "source": []
  },
  {
   "cell_type": "code",
   "execution_count": null,
   "id": "9a1fd6d8",
   "metadata": {},
   "outputs": [],
   "source": []
  }
 ],
 "metadata": {
  "kernelspec": {
   "display_name": "Python 3 (ipykernel)",
   "language": "python",
   "name": "python3"
  },
  "language_info": {
   "codemirror_mode": {
    "name": "ipython",
    "version": 3
   },
   "file_extension": ".py",
   "mimetype": "text/x-python",
   "name": "python",
   "nbconvert_exporter": "python",
   "pygments_lexer": "ipython3",
   "version": "3.11.5"
  }
 },
 "nbformat": 4,
 "nbformat_minor": 5
}
