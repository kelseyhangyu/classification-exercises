{
 "cells": [
  {
   "cell_type": "code",
   "execution_count": 189,
   "id": "7377295f",
   "metadata": {},
   "outputs": [],
   "source": [
    "import acquire as a\n",
    "import prepare as p\n",
    "import model as m"
   ]
  },
  {
   "cell_type": "code",
   "execution_count": 190,
   "id": "321e93a0",
   "metadata": {},
   "outputs": [
    {
     "name": "stdout",
     "output_type": "stream",
     "text": [
      "this file exists, reading from csv\n"
     ]
    }
   ],
   "source": [
    "titanic = p.prep_titanic((a.get_titanic_data()))\n",
    "train,validate,test = p.split(titanic,'survived')\n",
    "train,validate,test = m.preprocess_titanic(train,validate,test)"
   ]
  },
  {
   "cell_type": "code",
   "execution_count": 191,
   "id": "3d0e2865",
   "metadata": {},
   "outputs": [
    {
     "data": {
      "text/html": [
       "<div>\n",
       "<style scoped>\n",
       "    .dataframe tbody tr th:only-of-type {\n",
       "        vertical-align: middle;\n",
       "    }\n",
       "\n",
       "    .dataframe tbody tr th {\n",
       "        vertical-align: top;\n",
       "    }\n",
       "\n",
       "    .dataframe thead th {\n",
       "        text-align: right;\n",
       "    }\n",
       "</style>\n",
       "<table border=\"1\" class=\"dataframe\">\n",
       "  <thead>\n",
       "    <tr style=\"text-align: right;\">\n",
       "      <th></th>\n",
       "      <th>survived</th>\n",
       "      <th>pclass</th>\n",
       "      <th>age</th>\n",
       "      <th>sibsp</th>\n",
       "      <th>parch</th>\n",
       "      <th>fare</th>\n",
       "      <th>alone</th>\n",
       "      <th>sex_male</th>\n",
       "      <th>embark_town_Queenstown</th>\n",
       "      <th>embark_town_Southampton</th>\n",
       "    </tr>\n",
       "    <tr>\n",
       "      <th>passenger_id</th>\n",
       "      <th></th>\n",
       "      <th></th>\n",
       "      <th></th>\n",
       "      <th></th>\n",
       "      <th></th>\n",
       "      <th></th>\n",
       "      <th></th>\n",
       "      <th></th>\n",
       "      <th></th>\n",
       "      <th></th>\n",
       "    </tr>\n",
       "  </thead>\n",
       "  <tbody>\n",
       "    <tr>\n",
       "      <th>776</th>\n",
       "      <td>0</td>\n",
       "      <td>3</td>\n",
       "      <td>29.699118</td>\n",
       "      <td>0</td>\n",
       "      <td>0</td>\n",
       "      <td>7.7500</td>\n",
       "      <td>1</td>\n",
       "      <td>1</td>\n",
       "      <td>1</td>\n",
       "      <td>0</td>\n",
       "    </tr>\n",
       "    <tr>\n",
       "      <th>829</th>\n",
       "      <td>1</td>\n",
       "      <td>1</td>\n",
       "      <td>62.000000</td>\n",
       "      <td>0</td>\n",
       "      <td>0</td>\n",
       "      <td>80.0000</td>\n",
       "      <td>1</td>\n",
       "      <td>0</td>\n",
       "      <td>0</td>\n",
       "      <td>1</td>\n",
       "    </tr>\n",
       "    <tr>\n",
       "      <th>215</th>\n",
       "      <td>1</td>\n",
       "      <td>1</td>\n",
       "      <td>31.000000</td>\n",
       "      <td>1</td>\n",
       "      <td>0</td>\n",
       "      <td>113.2750</td>\n",
       "      <td>0</td>\n",
       "      <td>0</td>\n",
       "      <td>0</td>\n",
       "      <td>0</td>\n",
       "    </tr>\n",
       "    <tr>\n",
       "      <th>258</th>\n",
       "      <td>1</td>\n",
       "      <td>1</td>\n",
       "      <td>35.000000</td>\n",
       "      <td>0</td>\n",
       "      <td>0</td>\n",
       "      <td>512.3292</td>\n",
       "      <td>1</td>\n",
       "      <td>0</td>\n",
       "      <td>0</td>\n",
       "      <td>0</td>\n",
       "    </tr>\n",
       "    <tr>\n",
       "      <th>129</th>\n",
       "      <td>0</td>\n",
       "      <td>3</td>\n",
       "      <td>45.000000</td>\n",
       "      <td>0</td>\n",
       "      <td>0</td>\n",
       "      <td>6.9750</td>\n",
       "      <td>1</td>\n",
       "      <td>1</td>\n",
       "      <td>0</td>\n",
       "      <td>1</td>\n",
       "    </tr>\n",
       "  </tbody>\n",
       "</table>\n",
       "</div>"
      ],
      "text/plain": [
       "              survived  pclass        age  sibsp  parch      fare  alone  \\\n",
       "passenger_id                                                               \n",
       "776                  0       3  29.699118      0      0    7.7500      1   \n",
       "829                  1       1  62.000000      0      0   80.0000      1   \n",
       "215                  1       1  31.000000      1      0  113.2750      0   \n",
       "258                  1       1  35.000000      0      0  512.3292      1   \n",
       "129                  0       3  45.000000      0      0    6.9750      1   \n",
       "\n",
       "              sex_male  embark_town_Queenstown  embark_town_Southampton  \n",
       "passenger_id                                                             \n",
       "776                  1                       1                        0  \n",
       "829                  0                       0                        1  \n",
       "215                  0                       0                        0  \n",
       "258                  0                       0                        0  \n",
       "129                  1                       0                        1  "
      ]
     },
     "execution_count": 191,
     "metadata": {},
     "output_type": "execute_result"
    }
   ],
   "source": [
    "train.head()"
   ]
  },
  {
   "cell_type": "code",
   "execution_count": 192,
   "id": "21f44eaa",
   "metadata": {},
   "outputs": [
    {
     "name": "stdout",
     "output_type": "stream",
     "text": [
      "0    0\n",
      "Name: survived, dtype: int64\n"
     ]
    }
   ],
   "source": [
    "# 1 baseline prediction: predicting the most prevelant class in the training dataset (the mode)\n",
    "print(train.survived.mode())\n",
    "baseline_prediction = 'Not Survived'"
   ]
  },
  {
   "cell_type": "code",
   "execution_count": 193,
   "id": "54f462f3",
   "metadata": {},
   "outputs": [
    {
     "name": "stdout",
     "output_type": "stream",
     "text": [
      "survived\n",
      "0    329\n",
      "1    205\n",
      "Name: count, dtype: int64\n",
      "0.6161048689138576\n"
     ]
    }
   ],
   "source": [
    "# baseline accuracy\n",
    "print(train.survived.value_counts())\n",
    "baseline_accuracy = 329 / (329+205)\n",
    "print(baseline_accuracy)"
   ]
  },
  {
   "cell_type": "code",
   "execution_count": 194,
   "id": "3e2a7b9b",
   "metadata": {},
   "outputs": [],
   "source": [
    "X_train = train.drop(columns=['survived'])\n",
    "y_train = train.survived\n",
    "\n",
    "X_val = validate.drop(columns=['survived'])\n",
    "y_val = validate.survived\n",
    "\n",
    "X_test = test.drop(columns=['survived'])\n",
    "y_test = test.survived"
   ]
  },
  {
   "cell_type": "code",
   "execution_count": 53,
   "id": "70fe9d03",
   "metadata": {},
   "outputs": [],
   "source": [
    "import numpy as np\n",
    "\n",
    "from sklearn.tree import DecisionTreeClassifier, plot_tree\n",
    "from sklearn.metrics import accuracy_score, classification_report\n",
    "from sklearn.metrics import confusion_matrix\n",
    "\n",
    "import matplotlib.pyplot as plt\n",
    "import seaborn as sns\n"
   ]
  },
  {
   "cell_type": "markdown",
   "id": "372da95f",
   "metadata": {},
   "source": [
    "# First Model"
   ]
  },
  {
   "cell_type": "code",
   "execution_count": 120,
   "id": "8a38288c",
   "metadata": {},
   "outputs": [
    {
     "data": {
      "text/plain": [
       "[Text(0.5, 0.875, 'sex_male <= 0.5\\ngini = 0.473\\nsamples = 534\\nvalue = [329, 205]'),\n",
       " Text(0.25, 0.625, 'pclass <= 2.5\\ngini = 0.367\\nsamples = 190\\nvalue = [46, 144]'),\n",
       " Text(0.125, 0.375, 'age <= 3.0\\ngini = 0.075\\nsamples = 102\\nvalue = [4, 98]'),\n",
       " Text(0.0625, 0.125, 'gini = 0.0\\nsamples = 1\\nvalue = [1, 0]'),\n",
       " Text(0.1875, 0.125, 'gini = 0.058\\nsamples = 101\\nvalue = [3, 98]'),\n",
       " Text(0.375, 0.375, 'fare <= 23.912\\ngini = 0.499\\nsamples = 88\\nvalue = [42, 46]'),\n",
       " Text(0.3125, 0.125, 'gini = 0.488\\nsamples = 76\\nvalue = [32, 44]'),\n",
       " Text(0.4375, 0.125, 'gini = 0.278\\nsamples = 12\\nvalue = [10, 2]'),\n",
       " Text(0.75, 0.625, 'age <= 9.5\\ngini = 0.292\\nsamples = 344\\nvalue = [283, 61]'),\n",
       " Text(0.625, 0.375, 'sibsp <= 2.5\\ngini = 0.476\\nsamples = 23\\nvalue = [9, 14]'),\n",
       " Text(0.5625, 0.125, 'gini = 0.0\\nsamples = 13\\nvalue = [0, 13]'),\n",
       " Text(0.6875, 0.125, 'gini = 0.18\\nsamples = 10\\nvalue = [9, 1]'),\n",
       " Text(0.875, 0.375, 'fare <= 26.269\\ngini = 0.25\\nsamples = 321\\nvalue = [274, 47]'),\n",
       " Text(0.8125, 0.125, 'gini = 0.159\\nsamples = 241\\nvalue = [220, 21]'),\n",
       " Text(0.9375, 0.125, 'gini = 0.439\\nsamples = 80\\nvalue = [54, 26]')]"
      ]
     },
     "execution_count": 120,
     "metadata": {},
     "output_type": "execute_result"
    },
    {
     "data": {
      "image/png": "[encoded data removed]",
      "text/plain": [
       "<Figure size 1300x700 with 1 Axes>"
      ]
     },
     "metadata": {},
     "output_type": "display_data"
    }
   ],
   "source": [
    "# 2.Fit the decision tree classifier to your training sample and transform \n",
    "# (i.e. make predictions on the training sample)\n",
    "\n",
    "clf1 = DecisionTreeClassifier(max_depth=3, random_state=123)\n",
    "\n",
    "# model.fit(X, y)\n",
    "train1 = clf1.fit(X_train, y_train)\n",
    "\n",
    "plt.figure(figsize=(13, 7))\n",
    "plot_tree(clf1, feature_names=X_train.columns.tolist())"
   ]
  },
  {
   "cell_type": "code",
   "execution_count": 69,
   "id": "f313bafd",
   "metadata": {},
   "outputs": [
    {
     "data": {
      "text/plain": [
       "array([0, 1, 1, 1, 0])"
      ]
     },
     "execution_count": 69,
     "metadata": {},
     "output_type": "execute_result"
    }
   ],
   "source": [
    "# make prediction on train obeservations\n",
    "\n",
    "ytrain_pred = clf1.predict(X_train)\n",
    "ytrain_pred[0:5]"
   ]
  },
  {
   "cell_type": "code",
   "execution_count": 70,
   "id": "4061ddea",
   "metadata": {},
   "outputs": [
    {
     "data": {
      "text/plain": [
       "array([[0.91286307, 0.08713693],\n",
       "       [0.02970297, 0.97029703],\n",
       "       [0.02970297, 0.97029703],\n",
       "       [0.02970297, 0.97029703],\n",
       "       [0.91286307, 0.08713693]])"
      ]
     },
     "execution_count": 70,
     "metadata": {},
     "output_type": "execute_result"
    }
   ],
   "source": [
    "ytrain_pred_proba = clf1.predict_proba(X_train)\n",
    "ytrain_pred_proba[0:5]"
   ]
  },
  {
   "cell_type": "code",
   "execution_count": 71,
   "id": "6c6c131c",
   "metadata": {},
   "outputs": [
    {
     "data": {
      "text/plain": [
       "0.8408239700374532"
      ]
     },
     "execution_count": 71,
     "metadata": {},
     "output_type": "execute_result"
    }
   ],
   "source": [
    "# 3. Evaluate your in-sample results using the model score, confusion matrix, and classification report.\n",
    "clf1.score(X_train, y_train)"
   ]
  },
  {
   "cell_type": "code",
   "execution_count": 72,
   "id": "3c966f1b",
   "metadata": {},
   "outputs": [
    {
     "data": {
      "text/plain": [
       "0.8408239700374532"
      ]
     },
     "execution_count": 72,
     "metadata": {},
     "output_type": "execute_result"
    }
   ],
   "source": [
    "accuracy_score(y_train,ytrain_pred)"
   ]
  },
  {
   "cell_type": "code",
   "execution_count": 73,
   "id": "d88c8159",
   "metadata": {},
   "outputs": [
    {
     "data": {
      "text/plain": [
       "array([[0.89361702, 0.10638298],\n",
       "       [0.24390244, 0.75609756]])"
      ]
     },
     "execution_count": 73,
     "metadata": {},
     "output_type": "execute_result"
    }
   ],
   "source": [
    "confusion_matrix(y_train, ytrain_pred,normalize='true')\n",
    "\n",
    "# [True Negative   False Positive]\n",
    "# [False Negative  True Positive]\n"
   ]
  },
  {
   "cell_type": "code",
   "execution_count": 50,
   "id": "bf05988c",
   "metadata": {},
   "outputs": [
    {
     "name": "stdout",
     "output_type": "stream",
     "text": [
      "              precision    recall  f1-score   support\n",
      "\n",
      "           0       0.85      0.89      0.87       329\n",
      "           1       0.82      0.76      0.78       205\n",
      "\n",
      "    accuracy                           0.84       534\n",
      "   macro avg       0.84      0.82      0.83       534\n",
      "weighted avg       0.84      0.84      0.84       534\n",
      "\n"
     ]
    }
   ],
   "source": [
    "print(classification_report(y_train, ytrain_pred))"
   ]
  },
  {
   "cell_type": "markdown",
   "id": "62af4ee2",
   "metadata": {},
   "source": [
    "# Model 2"
   ]
  },
  {
   "cell_type": "code",
   "execution_count": 111,
   "id": "44cc0661",
   "metadata": {},
   "outputs": [],
   "source": [
    "clf2 = DecisionTreeClassifier(max_depth=15, random_state=123)"
   ]
  },
  {
   "cell_type": "code",
   "execution_count": 112,
   "id": "36ace052",
   "metadata": {},
   "outputs": [],
   "source": [
    "clf2 = clf2.fit(X_train, y_train)"
   ]
  },
  {
   "cell_type": "code",
   "execution_count": 113,
   "id": "8a13eeee",
   "metadata": {},
   "outputs": [],
   "source": [
    "ytrain_pred2 = clf2.predict(X_train)"
   ]
  },
  {
   "cell_type": "code",
   "execution_count": 114,
   "id": "a0955a07",
   "metadata": {},
   "outputs": [
    {
     "data": {
      "text/plain": [
       "0.9850187265917603"
      ]
     },
     "execution_count": 114,
     "metadata": {},
     "output_type": "execute_result"
    }
   ],
   "source": [
    "clf2.score(X_train, y_train)"
   ]
  },
  {
   "cell_type": "code",
   "execution_count": 94,
   "id": "f4f25e39",
   "metadata": {},
   "outputs": [
    {
     "name": "stdout",
     "output_type": "stream",
     "text": [
      "              precision    recall  f1-score   support\n",
      "\n",
      "           0       0.98      1.00      0.99       329\n",
      "           1       0.99      0.97      0.98       205\n",
      "\n",
      "    accuracy                           0.99       534\n",
      "   macro avg       0.99      0.98      0.98       534\n",
      "weighted avg       0.99      0.99      0.98       534\n",
      "\n"
     ]
    }
   ],
   "source": [
    "print(classification_report(y_train, ytrain_pred2))"
   ]
  },
  {
   "cell_type": "code",
   "execution_count": null,
   "id": "d9a4c839",
   "metadata": {},
   "outputs": [],
   "source": [
    "# clf2 performs better on my in sample data"
   ]
  },
  {
   "cell_type": "markdown",
   "id": "79a98f7d",
   "metadata": {},
   "source": [
    "# Validate"
   ]
  },
  {
   "cell_type": "code",
   "execution_count": 121,
   "id": "57b3cf76",
   "metadata": {},
   "outputs": [],
   "source": [
    "val1 = clf1.fit(X_val, y_val)"
   ]
  },
  {
   "cell_type": "code",
   "execution_count": 122,
   "id": "e12dda07",
   "metadata": {},
   "outputs": [
    {
     "data": {
      "text/plain": [
       "0.8314606741573034"
      ]
     },
     "execution_count": 122,
     "metadata": {},
     "output_type": "execute_result"
    }
   ],
   "source": [
    "clf1.score(X_val, y_val)"
   ]
  },
  {
   "cell_type": "code",
   "execution_count": 123,
   "id": "3e992249",
   "metadata": {},
   "outputs": [],
   "source": [
    "val2 = clf2.fit(X_val, y_val)"
   ]
  },
  {
   "cell_type": "code",
   "execution_count": 124,
   "id": "3584be8e",
   "metadata": {},
   "outputs": [
    {
     "data": {
      "text/plain": [
       "0.9943820224719101"
      ]
     },
     "execution_count": 124,
     "metadata": {},
     "output_type": "execute_result"
    }
   ],
   "source": [
    "clf2.score(X_val, y_val)"
   ]
  },
  {
   "cell_type": "markdown",
   "id": "88c64c8e",
   "metadata": {},
   "source": [
    "# Telco Dataset"
   ]
  },
  {
   "cell_type": "code",
   "execution_count": 195,
   "id": "80d54599",
   "metadata": {},
   "outputs": [
    {
     "name": "stdout",
     "output_type": "stream",
     "text": [
      "this file exists, reading from csv\n"
     ]
    }
   ],
   "source": [
    "telco = a.get_telco_data()"
   ]
  },
  {
   "cell_type": "code",
   "execution_count": 196,
   "id": "d64c917b",
   "metadata": {},
   "outputs": [],
   "source": [
    "telco = p.prep_telco(telco)"
   ]
  },
  {
   "cell_type": "code",
   "execution_count": 197,
   "id": "f407f1ac",
   "metadata": {},
   "outputs": [],
   "source": [
    "train,validate,test = p.split(telco,'churn')"
   ]
  },
  {
   "cell_type": "code",
   "execution_count": 198,
   "id": "0fb0ac4a",
   "metadata": {},
   "outputs": [],
   "source": [
    "train,validate,test = model.preprocess_telco(train,validate,test)"
   ]
  },
  {
   "cell_type": "code",
   "execution_count": 199,
   "id": "b32449c2",
   "metadata": {},
   "outputs": [],
   "source": [
    "X_train = train.drop(columns=['churn_Yes'])\n",
    "y_train = train.churn_Yes\n",
    "\n",
    "X_val = validate.drop(columns=['churn_Yes'])\n",
    "y_val = validate.churn_Yes\n",
    "\n",
    "X_test = test.drop(columns=['churn_Yes'])\n",
    "y_test = test.churn_Yes\n",
    "\n"
   ]
  },
  {
   "cell_type": "markdown",
   "id": "66535b0e",
   "metadata": {},
   "source": [
    "# Model 1"
   ]
  },
  {
   "cell_type": "code",
   "execution_count": 200,
   "id": "273ba1ba",
   "metadata": {},
   "outputs": [],
   "source": [
    "clf1 = DecisionTreeClassifier(max_depth=15, random_state=123)"
   ]
  },
  {
   "cell_type": "code",
   "execution_count": 201,
   "id": "c4a7673c",
   "metadata": {},
   "outputs": [],
   "source": [
    "model1 = clf1.fit(X_train, y_train)"
   ]
  },
  {
   "cell_type": "code",
   "execution_count": 202,
   "id": "89640ebd",
   "metadata": {},
   "outputs": [
    {
     "data": {
      "text/plain": [
       "0.9670538042190092"
      ]
     },
     "execution_count": 202,
     "metadata": {},
     "output_type": "execute_result"
    }
   ],
   "source": [
    "model1.score(X_train, y_train)"
   ]
  },
  {
   "cell_type": "markdown",
   "id": "683a3ee5",
   "metadata": {},
   "source": [
    "# Model 2"
   ]
  },
  {
   "cell_type": "code",
   "execution_count": 203,
   "id": "4e7bd639",
   "metadata": {},
   "outputs": [],
   "source": [
    "clf2 = DecisionTreeClassifier(max_depth=50, random_state=123)"
   ]
  },
  {
   "cell_type": "code",
   "execution_count": 204,
   "id": "36040997",
   "metadata": {},
   "outputs": [],
   "source": [
    "model2 = clf2.fit(X_train, y_train)"
   ]
  },
  {
   "cell_type": "code",
   "execution_count": 205,
   "id": "63238fee",
   "metadata": {},
   "outputs": [
    {
     "data": {
      "text/plain": [
       "0.9985778620526191"
      ]
     },
     "execution_count": 205,
     "metadata": {},
     "output_type": "execute_result"
    }
   ],
   "source": [
    "model2.score(X_train, y_train)"
   ]
  },
  {
   "cell_type": "markdown",
   "id": "f6e4da51",
   "metadata": {},
   "source": [
    "# Validate"
   ]
  },
  {
   "cell_type": "code",
   "execution_count": 206,
   "id": "38b29e75",
   "metadata": {},
   "outputs": [],
   "source": [
    "val1 = clf1.fit(X_val, y_val)"
   ]
  },
  {
   "cell_type": "code",
   "execution_count": 207,
   "id": "28263fb8",
   "metadata": {},
   "outputs": [
    {
     "data": {
      "text/plain": [
       "0.9864864864864865"
      ]
     },
     "execution_count": 207,
     "metadata": {},
     "output_type": "execute_result"
    }
   ],
   "source": [
    "val1.score(X_val, y_val)"
   ]
  },
  {
   "cell_type": "code",
   "execution_count": 208,
   "id": "6b22d806",
   "metadata": {},
   "outputs": [],
   "source": [
    "val2 = clf2.fit(X_val, y_val)"
   ]
  },
  {
   "cell_type": "code",
   "execution_count": 209,
   "id": "61cf1760",
   "metadata": {},
   "outputs": [
    {
     "data": {
      "text/plain": [
       "0.9985775248933144"
      ]
     },
     "execution_count": 209,
     "metadata": {},
     "output_type": "execute_result"
    }
   ],
   "source": [
    "val2.score(X_val, y_val)"
   ]
  },
  {
   "cell_type": "markdown",
   "id": "f426a026",
   "metadata": {},
   "source": [
    "# Pick model2"
   ]
  },
  {
   "cell_type": "code",
   "execution_count": 211,
   "id": "1e1c129a",
   "metadata": {},
   "outputs": [],
   "source": [
    "test_fit = clf2.fit(X_test,y_test)"
   ]
  },
  {
   "cell_type": "code",
   "execution_count": 212,
   "id": "a43ba7e8",
   "metadata": {},
   "outputs": [
    {
     "data": {
      "text/plain": [
       "1.0"
      ]
     },
     "execution_count": 212,
     "metadata": {},
     "output_type": "execute_result"
    }
   ],
   "source": [
    "test_fit.score(X_test,y_test)"
   ]
  }
 ],
 "metadata": {
  "kernelspec": {
   "display_name": "Python 3 (ipykernel)",
   "language": "python",
   "name": "python3"
  },
  "language_info": {
   "codemirror_mode": {
    "name": "ipython",
    "version": 3
   },
   "file_extension": ".py",
   "mimetype": "text/x-python",
   "name": "python",
   "nbconvert_exporter": "python",
   "pygments_lexer": "ipython3",
   "version": "3.11.5"
  }
 },
 "nbformat": 4,
 "nbformat_minor": 5
}
