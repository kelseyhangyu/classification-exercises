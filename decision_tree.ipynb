{
 "cells": [
  {
   "cell_type": "code",
   "execution_count": 189,
   "id": "7ed970b2",
   "metadata": {},
   "outputs": [],
   "source": [
    "import acquire as a\n",
    "import prepare as p\n",
    "import model as m"
   ]
  },
  {
   "cell_type": "code",
   "execution_count": 302,
   "id": "e80afe24",
   "metadata": {},
   "outputs": [
    {
     "name": "stdout",
     "output_type": "stream",
     "text": [
      "this file exists, reading from csv\n"
     ]
    }
   ],
   "source": [
    "titanic = p.prep_titanic((a.get_titanic_data()))\n",
    "train,validate,test = p.split(titanic,'survived')\n",
    "train,validate,test = m.preprocess_titanic(train,validate,test)"
   ]
  },
  {
   "cell_type": "code",
   "execution_count": 303,
   "id": "06af0d96",
   "metadata": {},
   "outputs": [
    {
     "data": {
      "text/html": [
       "<div>\n",
       "<style scoped>\n",
       "    .dataframe tbody tr th:only-of-type {\n",
       "        vertical-align: middle;\n",
       "    }\n",
       "\n",
       "    .dataframe tbody tr th {\n",
       "        vertical-align: top;\n",
       "    }\n",
       "\n",
       "    .dataframe thead th {\n",
       "        text-align: right;\n",
       "    }\n",
       "</style>\n",
       "<table border=\"1\" class=\"dataframe\">\n",
       "  <thead>\n",
       "    <tr style=\"text-align: right;\">\n",
       "      <th></th>\n",
       "      <th>survived</th>\n",
       "      <th>pclass</th>\n",
       "      <th>age</th>\n",
       "      <th>sibsp</th>\n",
       "      <th>parch</th>\n",
       "      <th>fare</th>\n",
       "      <th>alone</th>\n",
       "      <th>sex_male</th>\n",
       "      <th>embark_town_Queenstown</th>\n",
       "      <th>embark_town_Southampton</th>\n",
       "    </tr>\n",
       "    <tr>\n",
       "      <th>passenger_id</th>\n",
       "      <th></th>\n",
       "      <th></th>\n",
       "      <th></th>\n",
       "      <th></th>\n",
       "      <th></th>\n",
       "      <th></th>\n",
       "      <th></th>\n",
       "      <th></th>\n",
       "      <th></th>\n",
       "      <th></th>\n",
       "    </tr>\n",
       "  </thead>\n",
       "  <tbody>\n",
       "    <tr>\n",
       "      <th>776</th>\n",
       "      <td>0</td>\n",
       "      <td>3</td>\n",
       "      <td>29.699118</td>\n",
       "      <td>0</td>\n",
       "      <td>0</td>\n",
       "      <td>7.7500</td>\n",
       "      <td>1</td>\n",
       "      <td>1</td>\n",
       "      <td>1</td>\n",
       "      <td>0</td>\n",
       "    </tr>\n",
       "    <tr>\n",
       "      <th>829</th>\n",
       "      <td>1</td>\n",
       "      <td>1</td>\n",
       "      <td>62.000000</td>\n",
       "      <td>0</td>\n",
       "      <td>0</td>\n",
       "      <td>80.0000</td>\n",
       "      <td>1</td>\n",
       "      <td>0</td>\n",
       "      <td>0</td>\n",
       "      <td>1</td>\n",
       "    </tr>\n",
       "    <tr>\n",
       "      <th>215</th>\n",
       "      <td>1</td>\n",
       "      <td>1</td>\n",
       "      <td>31.000000</td>\n",
       "      <td>1</td>\n",
       "      <td>0</td>\n",
       "      <td>113.2750</td>\n",
       "      <td>0</td>\n",
       "      <td>0</td>\n",
       "      <td>0</td>\n",
       "      <td>0</td>\n",
       "    </tr>\n",
       "    <tr>\n",
       "      <th>258</th>\n",
       "      <td>1</td>\n",
       "      <td>1</td>\n",
       "      <td>35.000000</td>\n",
       "      <td>0</td>\n",
       "      <td>0</td>\n",
       "      <td>512.3292</td>\n",
       "      <td>1</td>\n",
       "      <td>0</td>\n",
       "      <td>0</td>\n",
       "      <td>0</td>\n",
       "    </tr>\n",
       "    <tr>\n",
       "      <th>129</th>\n",
       "      <td>0</td>\n",
       "      <td>3</td>\n",
       "      <td>45.000000</td>\n",
       "      <td>0</td>\n",
       "      <td>0</td>\n",
       "      <td>6.9750</td>\n",
       "      <td>1</td>\n",
       "      <td>1</td>\n",
       "      <td>0</td>\n",
       "      <td>1</td>\n",
       "    </tr>\n",
       "  </tbody>\n",
       "</table>\n",
       "</div>"
      ],
      "text/plain": [
       "              survived  pclass        age  sibsp  parch      fare  alone  \\\n",
       "passenger_id                                                               \n",
       "776                  0       3  29.699118      0      0    7.7500      1   \n",
       "829                  1       1  62.000000      0      0   80.0000      1   \n",
       "215                  1       1  31.000000      1      0  113.2750      0   \n",
       "258                  1       1  35.000000      0      0  512.3292      1   \n",
       "129                  0       3  45.000000      0      0    6.9750      1   \n",
       "\n",
       "              sex_male  embark_town_Queenstown  embark_town_Southampton  \n",
       "passenger_id                                                             \n",
       "776                  1                       1                        0  \n",
       "829                  0                       0                        1  \n",
       "215                  0                       0                        0  \n",
       "258                  0                       0                        0  \n",
       "129                  1                       0                        1  "
      ]
     },
     "execution_count": 303,
     "metadata": {},
     "output_type": "execute_result"
    }
   ],
   "source": [
    "train.head()"
   ]
  },
  {
   "cell_type": "code",
   "execution_count": 304,
   "id": "bdde7dd1",
   "metadata": {},
   "outputs": [
    {
     "name": "stdout",
     "output_type": "stream",
     "text": [
      "0    0\n",
      "Name: survived, dtype: int64\n"
     ]
    }
   ],
   "source": [
    "# 1 baseline prediction: predicting the most prevelant class in the training dataset (the mode)\n",
    "print(train.survived.mode())\n",
    "baseline_prediction = 'Not Survived'"
   ]
  },
  {
   "cell_type": "code",
   "execution_count": 305,
   "id": "2ece8c2d",
   "metadata": {},
   "outputs": [
    {
     "name": "stdout",
     "output_type": "stream",
     "text": [
      "survived\n",
      "0    329\n",
      "1    205\n",
      "Name: count, dtype: int64\n",
      "survived\n",
      "0    0.616105\n",
      "1    0.383895\n",
      "Name: proportion, dtype: float64\n"
     ]
    }
   ],
   "source": [
    "# baseline accuracy\n",
    "print(train.survived.value_counts())\n",
    "baseline_accuracy = train.survived.value_counts(normalize = True)\n",
    "print(baseline_accuracy)"
   ]
  },
  {
   "cell_type": "code",
   "execution_count": 194,
   "id": "a3dca168",
   "metadata": {},
   "outputs": [],
   "source": [
    "X_train = train.drop(columns=['survived'])\n",
    "y_train = train.survived\n",
    "\n",
    "X_val = validate.drop(columns=['survived'])\n",
    "y_val = validate.survived\n",
    "\n",
    "X_test = test.drop(columns=['survived'])\n",
    "y_test = test.survived"
   ]
  },
  {
   "cell_type": "code",
   "execution_count": 53,
   "id": "99d6c0ec",
   "metadata": {},
   "outputs": [],
   "source": [
    "import numpy as np\n",
    "\n",
    "from sklearn.tree import DecisionTreeClassifier, plot_tree\n",
    "from sklearn.metrics import accuracy_score, classification_report\n",
    "from sklearn.metrics import confusion_matrix\n",
    "\n",
    "import matplotlib.pyplot as plt\n",
    "import seaborn as sns\n"
   ]
  },
  {
   "cell_type": "markdown",
   "id": "8dd9dd53",
   "metadata": {},
   "source": [
    "# First Model"
   ]
  },
  {
   "cell_type": "code",
   "execution_count": 238,
   "id": "c70d115f",
   "metadata": {},
   "outputs": [
    {
     "data": {
      "text/plain": [
       "[Text(0.5, 0.875, 'tenure <= 17.5\\ngini = 0.39\\nsamples = 4219\\nvalue = [3098, 1121]'),\n",
       " Text(0.25, 0.625, 'internet_service_type_Fiber optic <= 0.5\\ngini = 0.496\\nsamples = 1575\\nvalue = [859, 716]'),\n",
       " Text(0.125, 0.375, 'tenure <= 3.5\\ngini = 0.41\\nsamples = 897\\nvalue = [639, 258]'),\n",
       " Text(0.0625, 0.125, 'gini = 0.49\\nsamples = 377\\nvalue = [215, 162]'),\n",
       " Text(0.1875, 0.125, 'gini = 0.301\\nsamples = 520\\nvalue = [424, 96]'),\n",
       " Text(0.375, 0.375, 'total_charges <= 124.475\\ngini = 0.438\\nsamples = 678\\nvalue = [220, 458]'),\n",
       " Text(0.3125, 0.125, 'gini = 0.243\\nsamples = 141\\nvalue = [20, 121]'),\n",
       " Text(0.4375, 0.125, 'gini = 0.467\\nsamples = 537\\nvalue = [200, 337]'),\n",
       " Text(0.75, 0.625, 'internet_service_type_Fiber optic <= 0.5\\ngini = 0.259\\nsamples = 2644\\nvalue = [2239, 405]'),\n",
       " Text(0.625, 0.375, 'contract_type_Two year <= 0.5\\ngini = 0.104\\nsamples = 1470\\nvalue = [1389, 81]'),\n",
       " Text(0.5625, 0.125, 'gini = 0.169\\nsamples = 760\\nvalue = [689, 71]'),\n",
       " Text(0.6875, 0.125, 'gini = 0.028\\nsamples = 710\\nvalue = [700, 10]'),\n",
       " Text(0.875, 0.375, 'tenure <= 58.5\\ngini = 0.4\\nsamples = 1174\\nvalue = [850, 324]'),\n",
       " Text(0.8125, 0.125, 'gini = 0.463\\nsamples = 763\\nvalue = [485, 278]'),\n",
       " Text(0.9375, 0.125, 'gini = 0.199\\nsamples = 411\\nvalue = [365, 46]')]"
      ]
     },
     "execution_count": 238,
     "metadata": {},
     "output_type": "execute_result"
    },
    {
     "data": {
      "image/png": "[encoded data removed]",
      "text/plain": [
       "<Figure size 1300x700 with 1 Axes>"
      ]
     },
     "metadata": {},
     "output_type": "display_data"
    }
   ],
   "source": [
    "# 2.Fit the decision tree classifier to your training sample and transform \n",
    "# (i.e. make predictions on the training sample)\n",
    "\n",
    "clf1 = DecisionTreeClassifier(max_depth=3)\n",
    "\n",
    "# model.fit(X, y)\n",
    "train1 = clf1.fit(X_train, y_train)\n",
    "\n",
    "plt.figure(figsize=(13, 7))\n",
    "plot_tree(clf1, feature_names=X_train.columns.tolist())"
   ]
  },
  {
   "cell_type": "code",
   "execution_count": 239,
   "id": "50ef41da",
   "metadata": {},
   "outputs": [
    {
     "data": {
      "text/plain": [
       "array([0, 1, 0, 0, 0])"
      ]
     },
     "execution_count": 239,
     "metadata": {},
     "output_type": "execute_result"
    }
   ],
   "source": [
    "# make prediction on train obeservations\n",
    "\n",
    "ytrain_pred = clf1.predict(X_train)\n",
    "ytrain_pred[0:5]"
   ]
  },
  {
   "cell_type": "code",
   "execution_count": 240,
   "id": "6cfa81ca",
   "metadata": {},
   "outputs": [
    {
     "data": {
      "text/plain": [
       "array([[0.90657895, 0.09342105],\n",
       "       [0.37243948, 0.62756052],\n",
       "       [0.88807786, 0.11192214],\n",
       "       [0.57029178, 0.42970822],\n",
       "       [0.81538462, 0.18461538]])"
      ]
     },
     "execution_count": 240,
     "metadata": {},
     "output_type": "execute_result"
    }
   ],
   "source": [
    "ytrain_pred_proba = clf1.predict_proba(X_train)\n",
    "ytrain_pred_proba[0:5]"
   ]
  },
  {
   "cell_type": "code",
   "execution_count": 241,
   "id": "5d685389",
   "metadata": {},
   "outputs": [
    {
     "data": {
      "text/plain": [
       "0.7907086987437781"
      ]
     },
     "execution_count": 241,
     "metadata": {},
     "output_type": "execute_result"
    }
   ],
   "source": [
    "# 3. Evaluate your in-sample results using the model score, confusion matrix, and classification report.\n",
    "clf1.score(X_train, y_train)"
   ]
  },
  {
   "cell_type": "code",
   "execution_count": 307,
   "id": "c9319a3c",
   "metadata": {},
   "outputs": [
    {
     "data": {
      "text/plain": [
       "0.7907086987437781"
      ]
     },
     "execution_count": 307,
     "metadata": {},
     "output_type": "execute_result"
    }
   ],
   "source": [
    "accuracy_score(y_train,ytrain_pred)"
   ]
  },
  {
   "cell_type": "code",
   "execution_count": 313,
   "id": "29f9c606",
   "metadata": {},
   "outputs": [
    {
     "data": {
      "text/plain": [
       "array([[0.92898644, 0.07101356],\n",
       "       [0.59143622, 0.40856378]])"
      ]
     },
     "execution_count": 313,
     "metadata": {},
     "output_type": "execute_result"
    }
   ],
   "source": [
    "confusion_matrix(y_train, ytrain_pred,normalize='true')\n",
    "\n",
    "# [True Negative   False Positive]\n",
    "# [False Negative  True Positive]\n"
   ]
  },
  {
   "cell_type": "code",
   "execution_count": 244,
   "id": "8927e188",
   "metadata": {},
   "outputs": [
    {
     "name": "stdout",
     "output_type": "stream",
     "text": [
      "              precision    recall  f1-score   support\n",
      "\n",
      "           0       0.81      0.93      0.87      3098\n",
      "           1       0.68      0.41      0.51      1121\n",
      "\n",
      "    accuracy                           0.79      4219\n",
      "   macro avg       0.74      0.67      0.69      4219\n",
      "weighted avg       0.78      0.79      0.77      4219\n",
      "\n"
     ]
    }
   ],
   "source": [
    "print(classification_report(y_train, ytrain_pred))"
   ]
  },
  {
   "cell_type": "markdown",
   "id": "f9fbc706",
   "metadata": {},
   "source": [
    "# Model 2"
   ]
  },
  {
   "cell_type": "code",
   "execution_count": 245,
   "id": "6a380b8f",
   "metadata": {},
   "outputs": [],
   "source": [
    "clf2 = DecisionTreeClassifier(max_depth=10)"
   ]
  },
  {
   "cell_type": "code",
   "execution_count": 246,
   "id": "d578abf5",
   "metadata": {},
   "outputs": [],
   "source": [
    "clf2 = clf2.fit(X_train, y_train)"
   ]
  },
  {
   "cell_type": "code",
   "execution_count": 247,
   "id": "6168e2cd",
   "metadata": {},
   "outputs": [],
   "source": [
    "ytrain_pred2 = clf2.predict(X_train)"
   ]
  },
  {
   "cell_type": "code",
   "execution_count": 248,
   "id": "8f3bbc87",
   "metadata": {},
   "outputs": [
    {
     "data": {
      "text/plain": [
       "0.8862289642095283"
      ]
     },
     "execution_count": 248,
     "metadata": {},
     "output_type": "execute_result"
    }
   ],
   "source": [
    "clf2.score(X_train, y_train)"
   ]
  },
  {
   "cell_type": "code",
   "execution_count": 234,
   "id": "b1ed9ad4",
   "metadata": {},
   "outputs": [
    {
     "name": "stdout",
     "output_type": "stream",
     "text": [
      "              precision    recall  f1-score   support\n",
      "\n",
      "           0       0.91      0.94      0.92      3098\n",
      "           1       0.81      0.74      0.77      1121\n",
      "\n",
      "    accuracy                           0.89      4219\n",
      "   macro avg       0.86      0.84      0.85      4219\n",
      "weighted avg       0.88      0.89      0.88      4219\n",
      "\n"
     ]
    }
   ],
   "source": [
    "print(classification_report(y_train, ytrain_pred2))"
   ]
  },
  {
   "cell_type": "markdown",
   "id": "d2cd7923",
   "metadata": {},
   "source": [
    "# clf2 performs better on my in sample data"
   ]
  },
  {
   "cell_type": "markdown",
   "id": "b1c7c10b",
   "metadata": {},
   "source": [
    "# Validate"
   ]
  },
  {
   "cell_type": "code",
   "execution_count": 249,
   "id": "a90ed85c",
   "metadata": {},
   "outputs": [
    {
     "data": {
      "text/plain": [
       "0.7908961593172119"
      ]
     },
     "execution_count": 249,
     "metadata": {},
     "output_type": "execute_result"
    }
   ],
   "source": [
    "clf1.score(X_val, y_val)"
   ]
  },
  {
   "cell_type": "code",
   "execution_count": 250,
   "id": "51657350",
   "metadata": {},
   "outputs": [
    {
     "data": {
      "text/plain": [
       "0.7731152204836416"
      ]
     },
     "execution_count": 250,
     "metadata": {},
     "output_type": "execute_result"
    }
   ],
   "source": [
    "clf2.score(X_val, y_val)"
   ]
  },
  {
   "cell_type": "markdown",
   "id": "d09c1817",
   "metadata": {},
   "source": [
    "# model 1 performs better on validate"
   ]
  },
  {
   "cell_type": "code",
   "execution_count": 251,
   "id": "515a746d",
   "metadata": {},
   "outputs": [
    {
     "data": {
      "text/plain": [
       "0.7882018479033405"
      ]
     },
     "execution_count": 251,
     "metadata": {},
     "output_type": "execute_result"
    }
   ],
   "source": [
    "clf1.score(X_test, y_test)"
   ]
  },
  {
   "cell_type": "markdown",
   "id": "d4bf4073",
   "metadata": {},
   "source": [
    "# Telco Dataset"
   ]
  },
  {
   "cell_type": "code",
   "execution_count": 267,
   "id": "65be965c",
   "metadata": {},
   "outputs": [
    {
     "name": "stdout",
     "output_type": "stream",
     "text": [
      "this file exists, reading from csv\n"
     ]
    }
   ],
   "source": [
    "telco = a.get_telco_data()"
   ]
  },
  {
   "cell_type": "code",
   "execution_count": 268,
   "id": "2c142df2",
   "metadata": {},
   "outputs": [],
   "source": [
    "telco = p.prep_telco(telco)"
   ]
  },
  {
   "cell_type": "code",
   "execution_count": 269,
   "id": "bee06ac0",
   "metadata": {},
   "outputs": [],
   "source": [
    "train,validate,test = p.split(telco,'churn')"
   ]
  },
  {
   "cell_type": "code",
   "execution_count": 270,
   "id": "fa484fde",
   "metadata": {},
   "outputs": [],
   "source": [
    "train,validate,test = model.preprocess_telco(train,validate,test)"
   ]
  },
  {
   "cell_type": "code",
   "execution_count": 271,
   "id": "82d8c86c",
   "metadata": {},
   "outputs": [],
   "source": [
    "X_train = train.drop(columns=['churn_Yes'])\n",
    "y_train = train.churn_Yes\n",
    "\n",
    "X_val = validate.drop(columns=['churn_Yes'])\n",
    "y_val = validate.churn_Yes\n",
    "\n",
    "X_test = test.drop(columns=['churn_Yes'])\n",
    "y_test = test.churn_Yes\n",
    "\n"
   ]
  },
  {
   "cell_type": "code",
   "execution_count": 298,
   "id": "b0526101",
   "metadata": {},
   "outputs": [
    {
     "data": {
      "text/plain": [
       "churn_Yes\n",
       "0    0.734297\n",
       "1    0.265703\n",
       "Name: proportion, dtype: float64"
      ]
     },
     "execution_count": 298,
     "metadata": {},
     "output_type": "execute_result"
    }
   ],
   "source": [
    "#baseline\n",
    "\n",
    "y_train.value_counts(normalize = True)"
   ]
  },
  {
   "cell_type": "markdown",
   "id": "a2abb53f",
   "metadata": {},
   "source": [
    "# Model 1"
   ]
  },
  {
   "cell_type": "code",
   "execution_count": 286,
   "id": "2c97256e",
   "metadata": {},
   "outputs": [],
   "source": [
    "clf1 = DecisionTreeClassifier(max_depth=3, random_state=123)"
   ]
  },
  {
   "cell_type": "code",
   "execution_count": 287,
   "id": "a88d50c3",
   "metadata": {},
   "outputs": [
    {
     "data": {
      "text/html": [
       "<style>#sk-container-id-1 {color: black;}#sk-container-id-1 pre{padding: 0;}#sk-container-id-1 div.sk-toggleable {background-color: white;}#sk-container-id-1 label.sk-toggleable__label {cursor: pointer;display: block;width: 100%;margin-bottom: 0;padding: 0.3em;box-sizing: border-box;text-align: center;}#sk-container-id-1 label.sk-toggleable__label-arrow:before {content: \"▸\";float: left;margin-right: 0.25em;color: #696969;}#sk-container-id-1 label.sk-toggleable__label-arrow:hover:before {color: black;}#sk-container-id-1 div.sk-estimator:hover label.sk-toggleable__label-arrow:before {color: black;}#sk-container-id-1 div.sk-toggleable__content {max-height: 0;max-width: 0;overflow: hidden;text-align: left;background-color: #f0f8ff;}#sk-container-id-1 div.sk-toggleable__content pre {margin: 0.2em;color: black;border-radius: 0.25em;background-color: #f0f8ff;}#sk-container-id-1 input.sk-toggleable__control:checked~div.sk-toggleable__content {max-height: 200px;max-width: 100%;overflow: auto;}#sk-container-id-1 input.sk-toggleable__control:checked~label.sk-toggleable__label-arrow:before {content: \"▾\";}#sk-container-id-1 div.sk-estimator input.sk-toggleable__control:checked~label.sk-toggleable__label {background-color: #d4ebff;}#sk-container-id-1 div.sk-label input.sk-toggleable__control:checked~label.sk-toggleable__label {background-color: #d4ebff;}#sk-container-id-1 input.sk-hidden--visually {border: 0;clip: rect(1px 1px 1px 1px);clip: rect(1px, 1px, 1px, 1px);height: 1px;margin: -1px;overflow: hidden;padding: 0;position: absolute;width: 1px;}#sk-container-id-1 div.sk-estimator {font-family: monospace;background-color: #f0f8ff;border: 1px dotted black;border-radius: 0.25em;box-sizing: border-box;margin-bottom: 0.5em;}#sk-container-id-1 div.sk-estimator:hover {background-color: #d4ebff;}#sk-container-id-1 div.sk-parallel-item::after {content: \"\";width: 100%;border-bottom: 1px solid gray;flex-grow: 1;}#sk-container-id-1 div.sk-label:hover label.sk-toggleable__label {background-color: #d4ebff;}#sk-container-id-1 div.sk-serial::before {content: \"\";position: absolute;border-left: 1px solid gray;box-sizing: border-box;top: 0;bottom: 0;left: 50%;z-index: 0;}#sk-container-id-1 div.sk-serial {display: flex;flex-direction: column;align-items: center;background-color: white;padding-right: 0.2em;padding-left: 0.2em;position: relative;}#sk-container-id-1 div.sk-item {position: relative;z-index: 1;}#sk-container-id-1 div.sk-parallel {display: flex;align-items: stretch;justify-content: center;background-color: white;position: relative;}#sk-container-id-1 div.sk-item::before, #sk-container-id-1 div.sk-parallel-item::before {content: \"\";position: absolute;border-left: 1px solid gray;box-sizing: border-box;top: 0;bottom: 0;left: 50%;z-index: -1;}#sk-container-id-1 div.sk-parallel-item {display: flex;flex-direction: column;z-index: 1;position: relative;background-color: white;}#sk-container-id-1 div.sk-parallel-item:first-child::after {align-self: flex-end;width: 50%;}#sk-container-id-1 div.sk-parallel-item:last-child::after {align-self: flex-start;width: 50%;}#sk-container-id-1 div.sk-parallel-item:only-child::after {width: 0;}#sk-container-id-1 div.sk-dashed-wrapped {border: 1px dashed gray;margin: 0 0.4em 0.5em 0.4em;box-sizing: border-box;padding-bottom: 0.4em;background-color: white;}#sk-container-id-1 div.sk-label label {font-family: monospace;font-weight: bold;display: inline-block;line-height: 1.2em;}#sk-container-id-1 div.sk-label-container {text-align: center;}#sk-container-id-1 div.sk-container {/* jupyter's `normalize.less` sets `[hidden] { display: none; }` but bootstrap.min.css set `[hidden] { display: none !important; }` so we also need the `!important` here to be able to override the default hidden behavior on the sphinx rendered scikit-learn.org. See: https://github.com/scikit-learn/scikit-learn/issues/21755 */display: inline-block !important;position: relative;}#sk-container-id-1 div.sk-text-repr-fallback {display: none;}</style><div id=\"sk-container-id-1\" class=\"sk-top-container\"><div class=\"sk-text-repr-fallback\"><pre>DecisionTreeClassifier(max_depth=3, random_state=123)</pre><b>In a Jupyter environment, please rerun this cell to show the HTML representation or trust the notebook. <br />On GitHub, the HTML representation is unable to render, please try loading this page with nbviewer.org.</b></div><div class=\"sk-container\" hidden><div class=\"sk-item\"><div class=\"sk-estimator sk-toggleable\"><input class=\"sk-toggleable__control sk-hidden--visually\" id=\"sk-estimator-id-1\" type=\"checkbox\" checked><label for=\"sk-estimator-id-1\" class=\"sk-toggleable__label sk-toggleable__label-arrow\">DecisionTreeClassifier</label><div class=\"sk-toggleable__content\"><pre>DecisionTreeClassifier(max_depth=3, random_state=123)</pre></div></div></div></div></div>"
      ],
      "text/plain": [
       "DecisionTreeClassifier(max_depth=3, random_state=123)"
      ]
     },
     "execution_count": 287,
     "metadata": {},
     "output_type": "execute_result"
    }
   ],
   "source": [
    "clf1.fit(X_train, y_train)"
   ]
  },
  {
   "cell_type": "code",
   "execution_count": 288,
   "id": "9addb77e",
   "metadata": {},
   "outputs": [
    {
     "data": {
      "text/plain": [
       "0.7907086987437781"
      ]
     },
     "execution_count": 288,
     "metadata": {},
     "output_type": "execute_result"
    }
   ],
   "source": [
    "clf1.score(X_train, y_train)"
   ]
  },
  {
   "cell_type": "markdown",
   "id": "a696863d",
   "metadata": {},
   "source": [
    "# Model 2"
   ]
  },
  {
   "cell_type": "code",
   "execution_count": 284,
   "id": "7d0e8895",
   "metadata": {},
   "outputs": [],
   "source": [
    "clf2 = DecisionTreeClassifier(max_depth=5, random_state=123)"
   ]
  },
  {
   "cell_type": "code",
   "execution_count": 289,
   "id": "9d840f7e",
   "metadata": {},
   "outputs": [
    {
     "data": {
      "text/html": [
       "<style>#sk-container-id-2 {color: black;}#sk-container-id-2 pre{padding: 0;}#sk-container-id-2 div.sk-toggleable {background-color: white;}#sk-container-id-2 label.sk-toggleable__label {cursor: pointer;display: block;width: 100%;margin-bottom: 0;padding: 0.3em;box-sizing: border-box;text-align: center;}#sk-container-id-2 label.sk-toggleable__label-arrow:before {content: \"▸\";float: left;margin-right: 0.25em;color: #696969;}#sk-container-id-2 label.sk-toggleable__label-arrow:hover:before {color: black;}#sk-container-id-2 div.sk-estimator:hover label.sk-toggleable__label-arrow:before {color: black;}#sk-container-id-2 div.sk-toggleable__content {max-height: 0;max-width: 0;overflow: hidden;text-align: left;background-color: #f0f8ff;}#sk-container-id-2 div.sk-toggleable__content pre {margin: 0.2em;color: black;border-radius: 0.25em;background-color: #f0f8ff;}#sk-container-id-2 input.sk-toggleable__control:checked~div.sk-toggleable__content {max-height: 200px;max-width: 100%;overflow: auto;}#sk-container-id-2 input.sk-toggleable__control:checked~label.sk-toggleable__label-arrow:before {content: \"▾\";}#sk-container-id-2 div.sk-estimator input.sk-toggleable__control:checked~label.sk-toggleable__label {background-color: #d4ebff;}#sk-container-id-2 div.sk-label input.sk-toggleable__control:checked~label.sk-toggleable__label {background-color: #d4ebff;}#sk-container-id-2 input.sk-hidden--visually {border: 0;clip: rect(1px 1px 1px 1px);clip: rect(1px, 1px, 1px, 1px);height: 1px;margin: -1px;overflow: hidden;padding: 0;position: absolute;width: 1px;}#sk-container-id-2 div.sk-estimator {font-family: monospace;background-color: #f0f8ff;border: 1px dotted black;border-radius: 0.25em;box-sizing: border-box;margin-bottom: 0.5em;}#sk-container-id-2 div.sk-estimator:hover {background-color: #d4ebff;}#sk-container-id-2 div.sk-parallel-item::after {content: \"\";width: 100%;border-bottom: 1px solid gray;flex-grow: 1;}#sk-container-id-2 div.sk-label:hover label.sk-toggleable__label {background-color: #d4ebff;}#sk-container-id-2 div.sk-serial::before {content: \"\";position: absolute;border-left: 1px solid gray;box-sizing: border-box;top: 0;bottom: 0;left: 50%;z-index: 0;}#sk-container-id-2 div.sk-serial {display: flex;flex-direction: column;align-items: center;background-color: white;padding-right: 0.2em;padding-left: 0.2em;position: relative;}#sk-container-id-2 div.sk-item {position: relative;z-index: 1;}#sk-container-id-2 div.sk-parallel {display: flex;align-items: stretch;justify-content: center;background-color: white;position: relative;}#sk-container-id-2 div.sk-item::before, #sk-container-id-2 div.sk-parallel-item::before {content: \"\";position: absolute;border-left: 1px solid gray;box-sizing: border-box;top: 0;bottom: 0;left: 50%;z-index: -1;}#sk-container-id-2 div.sk-parallel-item {display: flex;flex-direction: column;z-index: 1;position: relative;background-color: white;}#sk-container-id-2 div.sk-parallel-item:first-child::after {align-self: flex-end;width: 50%;}#sk-container-id-2 div.sk-parallel-item:last-child::after {align-self: flex-start;width: 50%;}#sk-container-id-2 div.sk-parallel-item:only-child::after {width: 0;}#sk-container-id-2 div.sk-dashed-wrapped {border: 1px dashed gray;margin: 0 0.4em 0.5em 0.4em;box-sizing: border-box;padding-bottom: 0.4em;background-color: white;}#sk-container-id-2 div.sk-label label {font-family: monospace;font-weight: bold;display: inline-block;line-height: 1.2em;}#sk-container-id-2 div.sk-label-container {text-align: center;}#sk-container-id-2 div.sk-container {/* jupyter's `normalize.less` sets `[hidden] { display: none; }` but bootstrap.min.css set `[hidden] { display: none !important; }` so we also need the `!important` here to be able to override the default hidden behavior on the sphinx rendered scikit-learn.org. See: https://github.com/scikit-learn/scikit-learn/issues/21755 */display: inline-block !important;position: relative;}#sk-container-id-2 div.sk-text-repr-fallback {display: none;}</style><div id=\"sk-container-id-2\" class=\"sk-top-container\"><div class=\"sk-text-repr-fallback\"><pre>DecisionTreeClassifier(max_depth=5, random_state=123)</pre><b>In a Jupyter environment, please rerun this cell to show the HTML representation or trust the notebook. <br />On GitHub, the HTML representation is unable to render, please try loading this page with nbviewer.org.</b></div><div class=\"sk-container\" hidden><div class=\"sk-item\"><div class=\"sk-estimator sk-toggleable\"><input class=\"sk-toggleable__control sk-hidden--visually\" id=\"sk-estimator-id-2\" type=\"checkbox\" checked><label for=\"sk-estimator-id-2\" class=\"sk-toggleable__label sk-toggleable__label-arrow\">DecisionTreeClassifier</label><div class=\"sk-toggleable__content\"><pre>DecisionTreeClassifier(max_depth=5, random_state=123)</pre></div></div></div></div></div>"
      ],
      "text/plain": [
       "DecisionTreeClassifier(max_depth=5, random_state=123)"
      ]
     },
     "execution_count": 289,
     "metadata": {},
     "output_type": "execute_result"
    }
   ],
   "source": [
    "clf2.fit(X_train, y_train)"
   ]
  },
  {
   "cell_type": "code",
   "execution_count": 290,
   "id": "452920cd",
   "metadata": {},
   "outputs": [
    {
     "data": {
      "text/plain": [
       "0.8027968712965158"
      ]
     },
     "execution_count": 290,
     "metadata": {},
     "output_type": "execute_result"
    }
   ],
   "source": [
    "clf2.score(X_train, y_train)"
   ]
  },
  {
   "cell_type": "markdown",
   "id": "befb52eb",
   "metadata": {},
   "source": [
    "# Validate"
   ]
  },
  {
   "cell_type": "code",
   "execution_count": 291,
   "id": "3fade3e7",
   "metadata": {},
   "outputs": [
    {
     "data": {
      "text/plain": [
       "0.7908961593172119"
      ]
     },
     "execution_count": 291,
     "metadata": {},
     "output_type": "execute_result"
    }
   ],
   "source": [
    "clf1.score(X_val, y_val)"
   ]
  },
  {
   "cell_type": "code",
   "execution_count": 292,
   "id": "610d9058",
   "metadata": {},
   "outputs": [
    {
     "data": {
      "text/plain": [
       "0.7972972972972973"
      ]
     },
     "execution_count": 292,
     "metadata": {},
     "output_type": "execute_result"
    }
   ],
   "source": [
    "clf2.score(X_val, y_val)"
   ]
  },
  {
   "cell_type": "markdown",
   "id": "e6617153",
   "metadata": {},
   "source": [
    "# Pick model2"
   ]
  },
  {
   "cell_type": "code",
   "execution_count": 293,
   "id": "f3b5ff7b",
   "metadata": {},
   "outputs": [
    {
     "data": {
      "text/plain": [
       "0.7882018479033405"
      ]
     },
     "execution_count": 293,
     "metadata": {},
     "output_type": "execute_result"
    }
   ],
   "source": [
    "clf2.score(X_test,y_test)"
   ]
  }
 ],
 "metadata": {
  "kernelspec": {
   "display_name": "Python 3 (ipykernel)",
   "language": "python",
   "name": "python3"
  },
  "language_info": {
   "codemirror_mode": {
    "name": "ipython",
    "version": 3
   },
   "file_extension": ".py",
   "mimetype": "text/x-python",
   "name": "python",
   "nbconvert_exporter": "python",
   "pygments_lexer": "ipython3",
   "version": "3.11.5"
  }
 },
 "nbformat": 4,
 "nbformat_minor": 5
}
